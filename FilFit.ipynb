{
 "cells": [
  {
   "cell_type": "markdown",
   "metadata": {},
   "source": [
    "# Compute power spectrum of quake source\n",
    "# Fit the moment and corner frequency\n",
    "## S. Nielsen 2019"
   ]
  },
  {
   "cell_type": "markdown",
   "metadata": {},
   "source": [
    "Import libraries, define filenames and folder paths:"
   ]
  },
  {
   "cell_type": "code",
   "execution_count": null,
   "metadata": {},
   "outputs": [],
   "source": [
    "import matplotlib.pyplot as plt\n",
    "import numpy as np\n",
    "from scipy import signal as sig\n",
    "from scipy.fftpack import fft, ifft\n",
    "import matplotlib\n",
    "import matplotlib.pyplot as plt\n",
    "matplotlib.interactive(True)\n",
    "from pylab import plot, xlabel, ylabel\n",
    "from scipy import arange\n",
    "from scipy import signal\n",
    "import time\n",
    "import warnings\n",
    "import ipywidgets as widgets\n",
    "from ipywidgets import *\n",
    "warnings.filterwarnings('ignore')\n",
    "##########################################\n",
    "from transforms import forward_ft, backward_ft\n",
    "from utilities import read_ascii1, read_ascii2, taper\n",
    "##########################################\n",
    "pat='./'\n",
    "dir1=pat+'2017-09-08-mww81-near-coast-of-chiapas-mexico/'\n",
    "nam1='IU.WCI.00.BH1.M.2017-09-08T045330.019538.txt'\n",
    "nam2='IU.WCI.00.BH2.M.2017-09-08T045330.019538.txt'\n",
    "nam3='IU.WCI.00.BHZ.M.2017-09-08T045330.019538.txt'\n",
    "nam4='IU.WCI.10.BH1.M.2017-09-08bT045330.019538.txt'\n",
    "nam5='IU.WCI.10.BH2.M.2017-09-08T045330.019538.txt'\n",
    "nam6='IU.WCI.10.BHZ.M.2017-09-08T045330.019538.txt'\n",
    "dir2=pat+'2010-02-27-mw88-near-coast-of-central-chile/'\n",
    "nam7='II.ESK.10.BHZ.M.2010-02-27T064735.019500.txt'\n",
    "nam8='II.SACV.00.BHZ.M.2010-02-27T064416.022800.txt'\n",
    "nam9='II.SACV.10.BHZ.M.2010-02-27T064416.017700.txt'\n",
    "nam10='IU.PAB.00.BHZ.M.2010-02-27T064648.019538.txt'\n",
    "nam11='IU.PAB.10.BHZ.M.2010-02-27T064648.019538.txt'\n",
    "dir3=pat+'2018-01-21-mww63-northern-chile/'\n",
    "nam12='IU.LVC.00.BHZ.M.2018-01-21T010635.019538.txt'\n",
    "nam13='IU.LVC.10.BHZ.M.2018-01-21T010635.019538.txt'\n",
    "nam14='IU.RCBR.00.BHZ.M.2018-01-21T011224.019539.txt'"
   ]
  },
  {
   "cell_type": "code",
   "execution_count": null,
   "metadata": {},
   "outputs": [],
   "source": [
    "print(\"Which earthquake would you like to analyse:\")\n",
    "print(\"   1: coast of Chiapas - Mexico (great)\")\n",
    "print(\"   2: coast of central Chile (greater)\")\n",
    "print(\"   3: northern Chile (large)\")\n",
    "try:ans=raw_input(\"Enter 1, 2 or 3: \")\n",
    "except:ans=input(\"Enter 1, 2 or 3: \")\n",
    "if ans=='1':\n",
    "    name=dir1+nam2;\n",
    "    mosca=2.64e22\n",
    "    dt=0.05\n",
    "if ans=='2':\n",
    "    name=dir2+nam8\n",
    "    mosca=9e23\n",
    "    dt=0.025\n",
    "if ans=='3':\n",
    "    name=dir3+nam14\n",
    "    dt=0.025\n",
    "    mosca=4e22\n",
    "#\n",
    "print(\"You chose:\"+\"\\n\"+ans+\" -> \"+nam14)\n",
    "(dat1,nt)=read_ascii2(name)\n",
    "offset=np.sum(dat1)/nt\n",
    "dat1=[x-offset for x in dat1]\n",
    "recsca=1e-9/2.5 # scaling of receiver counts to m/s\n",
    "tt=dt*arange(nt);dat1=np.multiply(dat1,recsca)\n",
    "To=nt*dt;\n",
    "f, axarr = plt.subplots(1,1,figsize=(8,3))\n",
    "axarr.plot(tt,dat1);#axarr.grid();\n",
    "axarr.set_title('Original');"
   ]
  },
  {
   "cell_type": "markdown",
   "metadata": {},
   "source": [
    "## Integrate and detrend the signal"
   ]
  },
  {
   "cell_type": "code",
   "execution_count": null,
   "metadata": {},
   "outputs": [],
   "source": [
    "# integrate once to obtain displacement (original is velocity):\n",
    "%matplotlib notebook\n",
    "import matplotlib.pyplot as plt\n",
    "dat_int=np.cumsum((np.multiply(dt,dat1)))\n",
    "f, axarr = plt.subplots(1,1,figsize=(6,2))\n",
    "axarr.plot(tt,dat_int);#axarr.grid();\n",
    "axarr.set_title('Integrated');\n",
    "f.canvas.draw()\n",
    "# detrend \n",
    "dat_sum=signal.detrend(dat_int)\n",
    "f, axarr = plt.subplots(1,1,figsize=(6,2))\n",
    "axarr.plot(tt,dat_sum);#axarr.grid();\n",
    "axarr.set_title('De-trend');\n",
    "f.canvas.draw()"
   ]
  },
  {
   "cell_type": "markdown",
   "metadata": {},
   "source": [
    "## Clip and taper the displacement trace"
   ]
  },
  {
   "cell_type": "code",
   "execution_count": null,
   "metadata": {},
   "outputs": [],
   "source": [
    "%matplotlib notebook\n",
    "import matplotlib.pyplot as plt\n",
    "t1f=1.;t2f=250;\n",
    "ans='n'\n",
    "f, axarr = plt.subplots(4, sharex=True, figsize=(6,9))\n",
    "while ans=='n':\n",
    "    t1=int(t1f/dt);t2=int(t2f/dt);\n",
    "    tape=taper(nt,t1,t2,0.3,np.cos,np.zeros,np.concatenate)\n",
    "    dat_sum_w=np.multiply(tape,dat_sum) \n",
    "    axarr[0].plot(tt,dat1);axarr[0].grid();\n",
    "    axarr[0].set_title('Original');\n",
    "    axarr[1].plot(tt,dat_sum);\n",
    "    axarr[1].set_title('Integrated');\n",
    "    axarr[2].plot(tt,tape);\n",
    "    axarr[2].set_title('Taper');\n",
    "    axarr[3].plot(tt,dat_sum_w);\n",
    "    axarr[3].set_title('Tapered+Clipped');\n",
    "    f.canvas.draw();\n",
    "    #plt.pause(.05);\n",
    "    try:ans=raw_input(\"clip happy? (y/n) \")\n",
    "    except:ans=input(\"clip happy? (y/n) \")\n",
    "    if ans=='n':\n",
    "        for ia in range(3): \n",
    "            axarr[ia].clear();\n",
    "        try:    t1f= float(raw_input('enter new t1f: '))\n",
    "        except: t1f= float(input('enter new t1f: '))\n",
    "        try:    t2f= float(raw_input('enter new t2f: '))\n",
    "        except: t2f= float(input('enter new t2f: '))\n",
    "print('ok')"
   ]
  },
  {
   "cell_type": "markdown",
   "metadata": {},
   "source": [
    "## Fit moment and corner frequency:"
   ]
  },
  {
   "cell_type": "code",
   "execution_count": null,
   "metadata": {},
   "outputs": [],
   "source": [
    "# plot the  original trace:\n",
    "%matplotlib notebook\n",
    "import matplotlib.pyplot as plt\n",
    "#\n",
    "(Y,frq)=forward_ft(dat_sum_w,0.05,arange,fft)\n",
    "ufa=np.absolute(Y)*mosca\n",
    "maxufa=max(ufa);minufa=min(ufa)\n",
    "ans='n'\n",
    "umax=maxufa*1e-4;off1=maxufa*1e-6;\n",
    "fii,axx=plt.subplots(1)\n",
    "#while ans=='n':\n",
    "umaxa=umax*np.ones(nt)\n",
    "linex=[];linex.append(1)\n",
    "for i in range(1,nt): linex.append(off1*frq[i]**(-2))\n",
    "##plt.figure(1);#######################\n",
    "plt.loglog(frq[range(int(nt/2))],ufa[range(int(nt/2))],'r')\n",
    "xlabel('Freq (Hz)'); ylabel('|Y(freq)|')\n",
    "lineup0,=axx.loglog(frq,linex,'k'); xlabel('Freq (Hz)'); ylabel('|Y(freq)|')\n",
    "lineup1,=axx.loglog(frq,umaxa,'k'); xlabel('Freq (Hz)')\n",
    "ylabel('Moment rate spectrum (scaled)')\n",
    "plt.grid(True, which=\"both\")\n",
    "#axx.yaxis.get_data_interval()\n",
    "axx.set_ylim([ 1e-2*minufa, 1e2*maxufa])\n",
    "fii.canvas.draw()\n",
    "def update(log_umax,log_amp_1Hz):\n",
    "    umaxa=(10**log_umax)*np.ones(nt)\n",
    "    lineup1.set_ydata(umaxa)\n",
    "    linex=[];linex.append(1);\n",
    "    for i in range(1,nt): linex.append((10**log_amp_1Hz)*frq[i]**(-2))\n",
    "    lineup0.set_ydata(linex)\n",
    "    fii.canvas.draw()\n",
    "interact(update,log_umax=widgets.FloatSlider(value=14,\n",
    "                                               min=10,\n",
    "                                               max=22,\n",
    "                                               step=.2,\n",
    "                                               continuous_update=True),\n",
    "                 log_amp_1Hz=widgets.FloatSlider(value=14,\n",
    "                                               min=10,\n",
    "                                               max=22,\n",
    "                                               step=.2));\n",
    "Mo=2.647*1e+28*1e-7 # costa-rica 8.1 event 2017\n",
    "Mo\n",
    "umax/Mo"
   ]
  },
  {
   "cell_type": "code",
   "execution_count": null,
   "metadata": {},
   "outputs": [],
   "source": []
  }
 ],
 "metadata": {
  "hide_input": false,
  "kernelspec": {
   "display_name": "Python 3",
   "language": "python",
   "name": "python3"
  },
  "language_info": {
   "codemirror_mode": {
    "name": "ipython",
    "version": 3
   },
   "file_extension": ".py",
   "mimetype": "text/x-python",
   "name": "python",
   "nbconvert_exporter": "python",
   "pygments_lexer": "ipython3",
   "version": "3.7.1"
  }
 },
 "nbformat": 4,
 "nbformat_minor": 2
}
