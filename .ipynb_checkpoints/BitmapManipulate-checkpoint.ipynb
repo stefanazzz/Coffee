{
 "cells": [
  {
   "cell_type": "code",
   "execution_count": 1,
   "metadata": {},
   "outputs": [
    {
     "data": {
      "application/javascript": [
       "IPython.OutputArea.auto_scroll_threshold = 9999;\n"
      ],
      "text/plain": [
       "<IPython.core.display.Javascript object>"
      ]
     },
     "metadata": {},
     "output_type": "display_data"
    }
   ],
   "source": [
    "%%javascript\n",
    "IPython.OutputArea.auto_scroll_threshold = 9999;"
   ]
  },
  {
   "cell_type": "code",
   "execution_count": 2,
   "metadata": {},
   "outputs": [],
   "source": [
    "%matplotlib notebook\n",
    "import numpy as np\n",
    "import matplotlib\n",
    "import matplotlib.pyplot as plt\n",
    "#from skimage import data\n",
    "#from skimage.feature import register_translation\n",
    "#from skimage.feature.register_translation import _upsampled_dft\n",
    "from scipy import ndimage\n",
    "# from scipy.ndimage import fourier_shift\n",
    "from PIL import Image, ImageFilter\n",
    "#plt.rc('text', usetex=True);plt.rc('font', family='serif')\n",
    "#matplotlib.rcParams['text.latex.preamble'] = [r'\\usepackage{amsmath}',r'\\usepackage{pslatex}']\n",
    "#import os\n",
    "#import subprocess\n",
    "#import matplotlib.cm as cm"
   ]
  },
  {
   "cell_type": "code",
   "execution_count": null,
   "metadata": {},
   "outputs": [],
   "source": [
    "ftest=\"DotsDiffuserTest10\"\n",
    "comm=\"ls \"+fpath+ftest+\"_0???.png\"\n",
    "flist=os.popen(comm).read().split('\\n')\n",
    "im1 = Image.open(flist[0]).convert('L')\n",
    "z1   = np.asarray(im1,dtype=float) # convert image to array\n",
    "nx=np.shape(z1)[1] # get number of pixels x y\n",
    "ny=np.shape(z1)[0]\n",
    "# high pass filter:\n",
    "wt=10; # cutoff for low-pass / high-pass\n",
    "lowpass = ndimage.gaussian_filter(z1, wt)\n",
    "gauss_highpass = z1 - lowpass\n",
    "# sectorization:\n",
    "sw=12 # ratio of image length to sector length\n",
    "sp=24 # number of sample points per image length \n",
    "startshift=25;startshifty=30;#15\n",
    "endstop=-30;endstopy=20; #1\n",
    "subpixel=100; # fraction of pixel size\n",
    "if nx>ny: nn=nx;\n",
    "else: nn=ny;\n",
    "xpos=[];ypos=[]\n",
    "dx=int(nn/sw);dxh=int(nn/(2*sw));dxs=int(nn/sp)\n",
    "xdots=int(nx/dxs-endstop/dxs)\n",
    "ydots=int(ny/dxs+1-endstopy/dxs)\n",
    "for i in range(xdots):\n",
    "    for j in range(ydots):\n",
    "        xpos.append(int((i)*dxs+startshift))\n",
    "        ypos.append(int((j)*dxs+startshifty))      \n",
    "allen=len(xpos)\n",
    "#\n",
    "fig,[ax1,ax2]=plt.subplots(1,2,figsize=(10,4));\n",
    "ax1.imshow(gauss_highpass,cmap='gray');\n",
    "ax1.set_title( r'Highpass, $\\sigma =$%i pixels'% wt)\n",
    "ax1.plot(xpos,ypos,'ro',markersize=1);\n",
    "ax2.imshow(z1,cmap='gray')\n",
    "ax2.set_title('original');\n",
    "ax2.plot(xpos,ypos,'ro',markersize=1);\n",
    "#\n",
    "pixlen=.01/(672-624);\n",
    "print('Pixel Size is ~ %.2e'%pixlen)\n",
    "print('Subpixel limit fixed at %.2e' %(pixlen/subpixel))"
   ]
  }
 ],
 "metadata": {
  "kernelspec": {
   "display_name": "Python 3",
   "language": "python",
   "name": "python3"
  },
  "language_info": {
   "codemirror_mode": {
    "name": "ipython",
    "version": 3
   },
   "file_extension": ".py",
   "mimetype": "text/x-python",
   "name": "python",
   "nbconvert_exporter": "python",
   "pygments_lexer": "ipython3",
   "version": "3.7.1"
  }
 },
 "nbformat": 4,
 "nbformat_minor": 2
}
