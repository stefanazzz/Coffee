{
 "cells": [
  {
   "cell_type": "markdown",
   "metadata": {},
   "source": [
    "# How to extract tables from PDFs and from web pages\n",
    "## use of packages:\n",
    "- tabula-py \n",
    "- pandas\n",
    "- matplotlib for plotting"
   ]
  },
  {
   "cell_type": "code",
   "execution_count": 13,
   "metadata": {},
   "outputs": [],
   "source": [
    "from tabula import read_pdf\n",
    "import pandas as pd\n",
    "import numpy as np\n",
    "from matplotlib import pyplot as plt"
   ]
  },
  {
   "cell_type": "code",
   "execution_count": null,
   "metadata": {},
   "outputs": [],
   "source": [
    "df = read_pdf(\"n6.pdf\");df"
   ]
  },
  {
   "cell_type": "code",
   "execution_count": null,
   "metadata": {},
   "outputs": [],
   "source": [
    "df['V (m/s)']"
   ]
  },
  {
   "cell_type": "code",
   "execution_count": null,
   "metadata": {},
   "outputs": [],
   "source": [
    "%matplotlib notebook\n",
    "from matplotlib import pyplot as plt\n",
    "plt.plot(df['sn (MPa)'],df['mss'],'.');plt.title('friction vs. normal stress')"
   ]
  },
  {
   "cell_type": "code",
   "execution_count": null,
   "metadata": {},
   "outputs": [],
   "source": [
    "df.iloc[0,0]"
   ]
  },
  {
   "cell_type": "code",
   "execution_count": null,
   "metadata": {},
   "outputs": [],
   "source": [
    "df.iloc[1,0],df.iloc[1,1],float(df.iloc[1,2]),df.iloc[1,6]"
   ]
  },
  {
   "cell_type": "code",
   "execution_count": null,
   "metadata": {},
   "outputs": [],
   "source": [
    "for n in range(1,10):\n",
    "    print(df.iloc[n,0],df.iloc[n,1],float(df.iloc[n,2]),df.iloc[n,6])"
   ]
  },
  {
   "cell_type": "code",
   "execution_count": null,
   "metadata": {},
   "outputs": [],
   "source": [
    "mmuss=np.mean([df.iloc[n,6] for n in range(1,10)]); mmuss"
   ]
  },
  {
   "cell_type": "code",
   "execution_count": null,
   "metadata": {},
   "outputs": [],
   "source": [
    "[df.iloc[n,0] for n in range(1,10)]"
   ]
  },
  {
   "cell_type": "markdown",
   "metadata": {},
   "source": [
    "# Reading tables from html web pages\n",
    "\n",
    "let's look at this page with statistics on natural hazards:\n",
    "\n",
    "https://earthquake.usgs.gov/earthquakes/browse/stats.php\n",
    "\n",
    "There are five different tables; we import them all by default in a list called \"toto. \n",
    "The tables will be identified by toto[0] to toto[5].\n",
    "Then we can extract information from the columns and lines of interest, and plot them (for example)."
   ]
  },
  {
   "cell_type": "code",
   "execution_count": 9,
   "metadata": {},
   "outputs": [
    {
     "data": {
      "text/html": [
       "<div>\n",
       "<style scoped>\n",
       "    .dataframe tbody tr th:only-of-type {\n",
       "        vertical-align: middle;\n",
       "    }\n",
       "\n",
       "    .dataframe tbody tr th {\n",
       "        vertical-align: top;\n",
       "    }\n",
       "\n",
       "    .dataframe thead th {\n",
       "        text-align: right;\n",
       "    }\n",
       "</style>\n",
       "<table border=\"1\" class=\"dataframe\">\n",
       "  <thead>\n",
       "    <tr style=\"text-align: right;\">\n",
       "      <th></th>\n",
       "      <th>Magnitude</th>\n",
       "      <th>2000</th>\n",
       "      <th>2001</th>\n",
       "      <th>2002</th>\n",
       "      <th>2003</th>\n",
       "      <th>2004</th>\n",
       "      <th>2005</th>\n",
       "      <th>2006</th>\n",
       "      <th>2007</th>\n",
       "      <th>2008</th>\n",
       "      <th>2009</th>\n",
       "      <th>2010</th>\n",
       "      <th>2011</th>\n",
       "      <th>2012</th>\n",
       "      <th>2013</th>\n",
       "      <th>2014</th>\n",
       "      <th>2015</th>\n",
       "      <th>2016</th>\n",
       "      <th>2017</th>\n",
       "      <th>2018</th>\n",
       "    </tr>\n",
       "  </thead>\n",
       "  <tbody>\n",
       "    <tr>\n",
       "      <th>0</th>\n",
       "      <td>8.0+</td>\n",
       "      <td>1</td>\n",
       "      <td>1</td>\n",
       "      <td>0</td>\n",
       "      <td>1</td>\n",
       "      <td>2</td>\n",
       "      <td>1</td>\n",
       "      <td>2</td>\n",
       "      <td>4</td>\n",
       "      <td>0</td>\n",
       "      <td>1</td>\n",
       "      <td>1</td>\n",
       "      <td>1</td>\n",
       "      <td>2</td>\n",
       "      <td>2</td>\n",
       "      <td>1</td>\n",
       "      <td>1</td>\n",
       "      <td>0.0</td>\n",
       "      <td>1.0</td>\n",
       "      <td>1.0</td>\n",
       "    </tr>\n",
       "    <tr>\n",
       "      <th>1</th>\n",
       "      <td>7–7.9</td>\n",
       "      <td>14</td>\n",
       "      <td>15</td>\n",
       "      <td>13</td>\n",
       "      <td>14</td>\n",
       "      <td>14</td>\n",
       "      <td>10</td>\n",
       "      <td>9</td>\n",
       "      <td>14</td>\n",
       "      <td>12</td>\n",
       "      <td>16</td>\n",
       "      <td>23</td>\n",
       "      <td>19</td>\n",
       "      <td>12</td>\n",
       "      <td>17</td>\n",
       "      <td>11</td>\n",
       "      <td>18</td>\n",
       "      <td>16.0</td>\n",
       "      <td>6.0</td>\n",
       "      <td>16.0</td>\n",
       "    </tr>\n",
       "    <tr>\n",
       "      <th>2</th>\n",
       "      <td>6–6.9</td>\n",
       "      <td>146</td>\n",
       "      <td>121</td>\n",
       "      <td>127</td>\n",
       "      <td>140</td>\n",
       "      <td>141</td>\n",
       "      <td>140</td>\n",
       "      <td>142</td>\n",
       "      <td>178</td>\n",
       "      <td>168</td>\n",
       "      <td>144</td>\n",
       "      <td>150</td>\n",
       "      <td>185</td>\n",
       "      <td>108</td>\n",
       "      <td>123</td>\n",
       "      <td>143</td>\n",
       "      <td>127</td>\n",
       "      <td>130.0</td>\n",
       "      <td>104.0</td>\n",
       "      <td>117.0</td>\n",
       "    </tr>\n",
       "    <tr>\n",
       "      <th>3</th>\n",
       "      <td>5–5.9</td>\n",
       "      <td>1344</td>\n",
       "      <td>1224</td>\n",
       "      <td>1201</td>\n",
       "      <td>1203</td>\n",
       "      <td>1515</td>\n",
       "      <td>1693</td>\n",
       "      <td>1712</td>\n",
       "      <td>2074</td>\n",
       "      <td>1768</td>\n",
       "      <td>1896</td>\n",
       "      <td>2209</td>\n",
       "      <td>2276</td>\n",
       "      <td>1401</td>\n",
       "      <td>1453</td>\n",
       "      <td>1574</td>\n",
       "      <td>1419</td>\n",
       "      <td>1550.0</td>\n",
       "      <td>1455.0</td>\n",
       "      <td>1674.0</td>\n",
       "    </tr>\n",
       "    <tr>\n",
       "      <th>4</th>\n",
       "      <td>EstimatedDeaths</td>\n",
       "      <td>231</td>\n",
       "      <td>21357</td>\n",
       "      <td>1685</td>\n",
       "      <td>33819</td>\n",
       "      <td>298101</td>\n",
       "      <td>87992</td>\n",
       "      <td>6605</td>\n",
       "      <td>708</td>\n",
       "      <td>88708</td>\n",
       "      <td>1790</td>\n",
       "      <td>226050</td>\n",
       "      <td>21942</td>\n",
       "      <td>689</td>\n",
       "      <td>1572</td>\n",
       "      <td>756</td>\n",
       "      <td>9624</td>\n",
       "      <td>NaN</td>\n",
       "      <td>NaN</td>\n",
       "      <td>NaN</td>\n",
       "    </tr>\n",
       "  </tbody>\n",
       "</table>\n",
       "</div>"
      ],
      "text/plain": [
       "         Magnitude  2000   2001  2002   2003    2004   2005  2006  2007  \\\n",
       "0             8.0+     1      1     0      1       2      1     2     4   \n",
       "1            7–7.9    14     15    13     14      14     10     9    14   \n",
       "2            6–6.9   146    121   127    140     141    140   142   178   \n",
       "3            5–5.9  1344   1224  1201   1203    1515   1693  1712  2074   \n",
       "4  EstimatedDeaths   231  21357  1685  33819  298101  87992  6605   708   \n",
       "\n",
       "    2008  2009    2010   2011  2012  2013  2014  2015    2016    2017    2018  \n",
       "0      0     1       1      1     2     2     1     1     0.0     1.0     1.0  \n",
       "1     12    16      23     19    12    17    11    18    16.0     6.0    16.0  \n",
       "2    168   144     150    185   108   123   143   127   130.0   104.0   117.0  \n",
       "3   1768  1896    2209   2276  1401  1453  1574  1419  1550.0  1455.0  1674.0  \n",
       "4  88708  1790  226050  21942   689  1572   756  9624     NaN     NaN     NaN  "
      ]
     },
     "execution_count": 9,
     "metadata": {},
     "output_type": "execute_result"
    }
   ],
   "source": [
    "#toto=pd.read_html('https://earthquake.usgs.gov/earthquakes/browse/stats.php',header=None)\n",
    "toto=pd.read_html('https://earthquake.usgs.gov/earthquakes/browse/stats.php')\n",
    "toto[0]"
   ]
  },
  {
   "cell_type": "code",
   "execution_count": 10,
   "metadata": {},
   "outputs": [
    {
     "data": {
      "text/html": [
       "<div>\n",
       "<style scoped>\n",
       "    .dataframe tbody tr th:only-of-type {\n",
       "        vertical-align: middle;\n",
       "    }\n",
       "\n",
       "    .dataframe tbody tr th {\n",
       "        vertical-align: top;\n",
       "    }\n",
       "\n",
       "    .dataframe thead th {\n",
       "        text-align: right;\n",
       "    }\n",
       "</style>\n",
       "<table border=\"1\" class=\"dataframe\">\n",
       "  <thead>\n",
       "    <tr style=\"text-align: right;\">\n",
       "      <th></th>\n",
       "      <th>Magnitude</th>\n",
       "      <th>1990</th>\n",
       "      <th>1991</th>\n",
       "      <th>1992</th>\n",
       "      <th>1993</th>\n",
       "      <th>1994</th>\n",
       "      <th>1995</th>\n",
       "      <th>1996</th>\n",
       "      <th>1997</th>\n",
       "      <th>1998</th>\n",
       "      <th>1999</th>\n",
       "    </tr>\n",
       "  </thead>\n",
       "  <tbody>\n",
       "    <tr>\n",
       "      <th>0</th>\n",
       "      <td>8+</td>\n",
       "      <td>0</td>\n",
       "      <td>0</td>\n",
       "      <td>0</td>\n",
       "      <td>0</td>\n",
       "      <td>2</td>\n",
       "      <td>2</td>\n",
       "      <td>1</td>\n",
       "      <td>0</td>\n",
       "      <td>1</td>\n",
       "      <td>0</td>\n",
       "    </tr>\n",
       "    <tr>\n",
       "      <th>1</th>\n",
       "      <td>7–7.9</td>\n",
       "      <td>18</td>\n",
       "      <td>16</td>\n",
       "      <td>13</td>\n",
       "      <td>12</td>\n",
       "      <td>11</td>\n",
       "      <td>18</td>\n",
       "      <td>14</td>\n",
       "      <td>16</td>\n",
       "      <td>11</td>\n",
       "      <td>18</td>\n",
       "    </tr>\n",
       "    <tr>\n",
       "      <th>2</th>\n",
       "      <td>6–6.9</td>\n",
       "      <td>109</td>\n",
       "      <td>96</td>\n",
       "      <td>166</td>\n",
       "      <td>137</td>\n",
       "      <td>146</td>\n",
       "      <td>183</td>\n",
       "      <td>149</td>\n",
       "      <td>120</td>\n",
       "      <td>117</td>\n",
       "      <td>116</td>\n",
       "    </tr>\n",
       "    <tr>\n",
       "      <th>3</th>\n",
       "      <td>5–5.9</td>\n",
       "      <td>1617</td>\n",
       "      <td>1457</td>\n",
       "      <td>1498</td>\n",
       "      <td>1426</td>\n",
       "      <td>1542</td>\n",
       "      <td>1318</td>\n",
       "      <td>1222</td>\n",
       "      <td>1113</td>\n",
       "      <td>979</td>\n",
       "      <td>1104</td>\n",
       "    </tr>\n",
       "    <tr>\n",
       "      <th>4</th>\n",
       "      <td>EstimatedDeaths</td>\n",
       "      <td>52056</td>\n",
       "      <td>3210</td>\n",
       "      <td>3920</td>\n",
       "      <td>10096</td>\n",
       "      <td>1634</td>\n",
       "      <td>7980</td>\n",
       "      <td>589</td>\n",
       "      <td>3069</td>\n",
       "      <td>9430</td>\n",
       "      <td>22662</td>\n",
       "    </tr>\n",
       "  </tbody>\n",
       "</table>\n",
       "</div>"
      ],
      "text/plain": [
       "         Magnitude   1990  1991  1992   1993  1994  1995  1996  1997  1998  \\\n",
       "0               8+      0     0     0      0     2     2     1     0     1   \n",
       "1            7–7.9     18    16    13     12    11    18    14    16    11   \n",
       "2            6–6.9    109    96   166    137   146   183   149   120   117   \n",
       "3            5–5.9   1617  1457  1498   1426  1542  1318  1222  1113   979   \n",
       "4  EstimatedDeaths  52056  3210  3920  10096  1634  7980   589  3069  9430   \n",
       "\n",
       "    1999  \n",
       "0      0  \n",
       "1     18  \n",
       "2    116  \n",
       "3   1104  \n",
       "4  22662  "
      ]
     },
     "execution_count": 10,
     "metadata": {},
     "output_type": "execute_result"
    }
   ],
   "source": [
    "toto[2]"
   ]
  },
  {
   "cell_type": "markdown",
   "metadata": {},
   "source": [
    "We can now plot deaths vs. years"
   ]
  },
  {
   "cell_type": "code",
   "execution_count": 52,
   "metadata": {},
   "outputs": [
    {
     "data": {
      "image/png": "[encoded data removed]",
      "text/plain": [
       "<Figure size 432x288 with 1 Axes>"
      ]
     },
     "metadata": {
      "needs_background": "light"
     },
     "output_type": "display_data"
    }
   ],
   "source": [
    "import matplotlib.ticker as ticker\n",
    "fig,ax=plt.subplots()\n",
    "ax.plot(toto[0].iloc[4].iloc[1:17],'^')\n",
    "ax.xaxis.set_major_locator(ticker.MultipleLocator(5))\n",
    "ax.xaxis.set_minor_locator(ticker.MultipleLocator(1))"
   ]
  },
  {
   "cell_type": "code",
   "execution_count": 53,
   "metadata": {},
   "outputs": [
    {
     "data": {
      "image/png": "[encoded data removed]",
      "text/plain": [
       "<Figure size 432x288 with 1 Axes>"
      ]
     },
     "metadata": {
      "needs_background": "light"
     },
     "output_type": "display_data"
    }
   ],
   "source": [
    "# combine table 1 and 3 together, extracting line 4, then plot all:\n",
    "hlist1=toto[0].columns.get_values()\n",
    "hlist2=toto[2].columns.get_values()\n",
    "year1=[];deaths1=[];year2=[];deaths2=[]\n",
    "for i in range(1,17): year1.append(int(hlist1[i]));\n",
    "for i in range(1,17): deaths1.append(int(toto[0].iloc[4][i])); \n",
    "for i in range(1,10): year2.append(int(hlist2[i]));\n",
    "for i in range(1,10): deaths2.append(int(toto[2].iloc[4][i]));\n",
    "years=year2+year1;\n",
    "deaths=deaths2+deaths1\n",
    "fig,ax=plt.subplots();\n",
    "ax.plot(years,deaths,'o');\n",
    "ax.plot(years,deaths,'-');"
   ]
  },
  {
   "cell_type": "code",
   "execution_count": null,
   "metadata": {},
   "outputs": [],
   "source": []
  }
 ],
 "metadata": {
  "kernelspec": {
   "display_name": "Python 3",
   "language": "python",
   "name": "python3"
  },
  "language_info": {
   "codemirror_mode": {
    "name": "ipython",
    "version": 3
   },
   "file_extension": ".py",
   "mimetype": "text/x-python",
   "name": "python",
   "nbconvert_exporter": "python",
   "pygments_lexer": "ipython3",
   "version": "3.7.1"
  }
 },
 "nbformat": 4,
 "nbformat_minor": 2
}
