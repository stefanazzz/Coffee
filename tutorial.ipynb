{
 "cells": [
  {
   "cell_type": "markdown",
   "metadata": {},
   "source": [
    "# python (jupyter notebook) -- a short tutorial\n",
    "### S. Nielsen March 2019"
   ]
  },
  {
   "cell_type": "markdown",
   "metadata": {},
   "source": [
    "### Basic interaction with the notebook:\n",
    "Select the first \"In[ ]:\" cell (click anywhere on it with the mouse)<br>then click the >|Run button"
   ]
  },
  {
   "cell_type": "code",
   "execution_count": null,
   "metadata": {},
   "outputs": [],
   "source": [
    "print('Hello world')"
   ]
  },
  {
   "cell_type": "markdown",
   "metadata": {},
   "source": [
    "### Structure of lists, indexing"
   ]
  },
  {
   "cell_type": "code",
   "execution_count": null,
   "metadata": {},
   "outputs": [],
   "source": [
    "# create two vectors of values. These are \"lists\", there are also \"numpy arrays\" (we'll leave that for later)\n",
    "xval=[1, 4, 70, 5, 2]\n",
    "yval=[2, 40, 6, 8, 0.1]\n",
    "print(type(xval))\n",
    "print(xval[0])\n",
    "print(xval[4])\n",
    "print(\"indexing of arrays starts at 0 !!!\")"
   ]
  },
  {
   "cell_type": "markdown",
   "metadata": {},
   "source": [
    "### How loops work, hwo \"range\" works:"
   ]
  },
  {
   "cell_type": "code",
   "execution_count": null,
   "metadata": {},
   "outputs": [],
   "source": [
    "for i in range(5):\n",
    "    print(i)\n",
    "print(\"loops are marked by indentation, and implicitly end when indentation goes back!!!!!!\")\n",
    "print()\n",
    "\n",
    "for i in [1,3,5]:\n",
    "    for j in [6,7]:\n",
    "        print(i,j)"
   ]
  },
  {
   "cell_type": "markdown",
   "metadata": {},
   "source": [
    "## A simple plot. \n",
    "### First \"import\": library, module, package. \n",
    "### magic % and the notebook figure environnement"
   ]
  },
  {
   "cell_type": "code",
   "execution_count": null,
   "metadata": {},
   "outputs": [],
   "source": [
    "\n",
    "# this creates a particular environment for figures in notebooks:\n",
    "%matplotlib notebook \n",
    "# this imports a standard plotting library:\n",
    "from matplotlib import pyplot as plt \n",
    "#####################################\n",
    "\n",
    "# this creates the canvas for a figure with one plot (ax):\n",
    "fig,ax=plt.subplots() # create handle for figure (fig) and SINGLE subfigure (ax)\n",
    "\n",
    "# this plots the points on \"ax\":\n",
    "ax.plot(xval,yval,'ro'); # plot in subfigure ax\n",
    "print(\" Now try to interact with the graphic using the menu abr below the plot\")"
   ]
  },
  {
   "cell_type": "code",
   "execution_count": null,
   "metadata": {},
   "outputs": [],
   "source": [
    "# a figure with two subfigures\n",
    "fig,[ax1,ax2]=plt.subplots(ncols=1,nrows=2,figsize=(4,5))\n",
    "ax1.plot(xval,yval,'ro');\n",
    "ax2.loglog(xval,yval,'bo');\n",
    "#ax2.set_xlim(left=1e-1);"
   ]
  },
  {
   "cell_type": "markdown",
   "metadata": {},
   "source": [
    "### Arithmetics and the numpy package"
   ]
  },
  {
   "cell_type": "code",
   "execution_count": null,
   "metadata": {},
   "outputs": [],
   "source": [
    "import numpy as np # this libraries allows further arithmetic operations\n",
    "####################\n",
    "pows=np.linspace(0.5,2.,5);\n",
    "sd=1e6;\n",
    "L=10**(pows)\n",
    "mo=(16/7)*sd*L**3;mag=(2/3)*(np.log10(mo)-9.1)\n",
    "print(pows,\"\\n\",L,\"\\n\",mag)"
   ]
  },
  {
   "cell_type": "code",
   "execution_count": null,
   "metadata": {},
   "outputs": [],
   "source": [
    "fig,[ax1,ax2]=plt.subplots(ncols=1,nrows=2,figsize=(4,5))\n",
    "ax1.plot(L,mag,'o');\n",
    "ax1.plot(L,mo,'o');\n",
    "ax2.loglog(L,mag,'o');\n",
    "ax2.loglog(L,mo,'o');"
   ]
  },
  {
   "cell_type": "markdown",
   "metadata": {},
   "source": [
    "### Export your figures: vector, pdf, bitmap... you name it!"
   ]
  },
  {
   "cell_type": "code",
   "execution_count": null,
   "metadata": {},
   "outputs": [],
   "source": [
    "fig.savefig(\"example.svg\")\n",
    "fig.savefig(\"example.pdf\")\n",
    "fig.savefig(\"example.png\",dpi=300)"
   ]
  },
  {
   "cell_type": "code",
   "execution_count": null,
   "metadata": {},
   "outputs": [],
   "source": [
    "# define a function\n",
    "def myfunnyfunction(aa):\n",
    "    aa=aa+1\n",
    "    print(aa)\n",
    "def mybetterfunction(bb):\n",
    "    bb=bb+1\n",
    "    return(bb)\n",
    "#\n",
    "aa=2;\n",
    "myfunnyfunction(aa)\n",
    "print(aa)\n",
    "cc=mybetterfunction(aa)\n",
    "print(aa,cc)\n",
    "#\n",
    "print(\"\\n\",'variables inside functions are modified only locally !!')"
   ]
  },
  {
   "cell_type": "markdown",
   "metadata": {},
   "source": [
    "## A fancier graphic, defined in a function \"josephine\"\n",
    "### Call josephine with arguments"
   ]
  },
  {
   "cell_type": "code",
   "execution_count": null,
   "metadata": {},
   "outputs": [],
   "source": [
    "from pylab import xlabel, ylabel\n",
    "\n",
    "def josephine(xx,yy,yy2,labx,laby,laby2):\n",
    "    fig,ax=plt.subplots(figsize=(6,8))\n",
    "    ax.semilogx(xx,yy,'r')\n",
    "    xlabel(labx); ylabel(laby)\n",
    "    ax.xaxis.grid(True,which='both',alpha=1)\n",
    "    ax2 = ax.twinx()\n",
    "    ax2.loglog(xx, yy2, 'b--')\n",
    "    ax2.set_ylabel(laby2, color='r')\n",
    "    ax2.tick_params('y', colors='r')\n",
    "    ax2.yaxis.grid(True,which='both',alpha=1)"
   ]
  },
  {
   "cell_type": "markdown",
   "metadata": {},
   "source": [
    "## Youy can write math equations in your notebook, too.\n",
    "We are plotting the magnitude moment relation such that:\n",
    "    $$\n",
    "    M_w=\\frac{2}{3}(\\log M_o-9.1)\n",
    "    $$\n",
    "and assume that the seismic moment scales with fault length $L$ as:\n",
    "$$M_o\\propto L^3$$"
   ]
  },
  {
   "cell_type": "code",
   "execution_count": null,
   "metadata": {},
   "outputs": [],
   "source": [
    "pows=np.linspace(0.5,2.,5);L=10**(pows)\n",
    "sd=5e6;mo=(16/7)*sd*L**3;mag=(2/3)*(np.log10(mo)-9.1)\n",
    "\n",
    "# call the plotting function \"josephine\":\n",
    "josephine(L,mag,mo,'Length L (m)','M$_w$','M$_o$ (N m)')"
   ]
  },
  {
   "cell_type": "code",
   "execution_count": null,
   "metadata": {},
   "outputs": [],
   "source": []
  },
  {
   "cell_type": "code",
   "execution_count": null,
   "metadata": {},
   "outputs": [],
   "source": []
  }
 ],
 "metadata": {
  "kernelspec": {
   "display_name": "Python 3",
   "language": "python",
   "name": "python3"
  },
  "language_info": {
   "codemirror_mode": {
    "name": "ipython",
    "version": 3
   },
   "file_extension": ".py",
   "mimetype": "text/x-python",
   "name": "python",
   "nbconvert_exporter": "python",
   "pygments_lexer": "ipython3",
   "version": "3.7.1"
  }
 },
 "nbformat": 4,
 "nbformat_minor": 2
}
